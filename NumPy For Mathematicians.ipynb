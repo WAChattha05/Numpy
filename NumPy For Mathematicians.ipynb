{
 "cells": [
  {
   "cell_type": "code",
   "execution_count": 3,
   "id": "d9238030",
   "metadata": {},
   "outputs": [],
   "source": [
    "import numpy as np\n",
    "import matplotlib.pyplot as plt"
   ]
  },
  {
   "cell_type": "markdown",
   "id": "2653eb87",
   "metadata": {},
   "source": [
    "# Creating Arrays"
   ]
  },
  {
   "cell_type": "code",
   "execution_count": 84,
   "id": "5d550ac7",
   "metadata": {},
   "outputs": [],
   "source": [
    "n1 = np.array([1,2,3,4,5,6,7,8,9,10])"
   ]
  },
  {
   "cell_type": "code",
   "execution_count": 85,
   "id": "252addb4",
   "metadata": {},
   "outputs": [
    {
     "data": {
      "text/plain": [
       "array([ 1,  2,  3,  4,  5,  6,  7,  8,  9, 10])"
      ]
     },
     "execution_count": 85,
     "metadata": {},
     "output_type": "execute_result"
    }
   ],
   "source": [
    "n1"
   ]
  },
  {
   "cell_type": "code",
   "execution_count": 86,
   "id": "9b848a1b",
   "metadata": {},
   "outputs": [
    {
     "data": {
      "text/plain": [
       "(10,)"
      ]
     },
     "execution_count": 86,
     "metadata": {},
     "output_type": "execute_result"
    }
   ],
   "source": [
    "n1.shape # Rank 1 tensor"
   ]
  },
  {
   "cell_type": "code",
   "execution_count": 87,
   "id": "cddc5532",
   "metadata": {},
   "outputs": [],
   "source": [
    "n2 = np.array([[1,2,3,4,5,6,7,8,9,10]])"
   ]
  },
  {
   "cell_type": "code",
   "execution_count": 88,
   "id": "4efe9815",
   "metadata": {},
   "outputs": [
    {
     "data": {
      "text/plain": [
       "(1, 10)"
      ]
     },
     "execution_count": 88,
     "metadata": {},
     "output_type": "execute_result"
    }
   ],
   "source": [
    "n2.shape"
   ]
  },
  {
   "cell_type": "code",
   "execution_count": 89,
   "id": "2e6db1e6",
   "metadata": {},
   "outputs": [
    {
     "data": {
      "text/plain": [
       "array([0., 0., 0., 0., 0., 0., 0., 0., 0., 0.])"
      ]
     },
     "execution_count": 89,
     "metadata": {},
     "output_type": "execute_result"
    }
   ],
   "source": [
    "n3 = np.zeros(10)\n",
    "n3"
   ]
  },
  {
   "cell_type": "code",
   "execution_count": 90,
   "id": "4750f3cf",
   "metadata": {},
   "outputs": [
    {
     "data": {
      "text/plain": [
       "array([1., 1., 1., 1., 1., 1., 1., 1., 1., 1.])"
      ]
     },
     "execution_count": 90,
     "metadata": {},
     "output_type": "execute_result"
    }
   ],
   "source": [
    "n4 = np.ones(10)\n",
    "n4"
   ]
  },
  {
   "cell_type": "code",
   "execution_count": 91,
   "id": "bc28ea25",
   "metadata": {},
   "outputs": [
    {
     "data": {
      "text/plain": [
       "array([[1., 0., 0., 0., 0., 0., 0., 0., 0., 0.],\n",
       "       [0., 1., 0., 0., 0., 0., 0., 0., 0., 0.],\n",
       "       [0., 0., 1., 0., 0., 0., 0., 0., 0., 0.],\n",
       "       [0., 0., 0., 1., 0., 0., 0., 0., 0., 0.],\n",
       "       [0., 0., 0., 0., 1., 0., 0., 0., 0., 0.],\n",
       "       [0., 0., 0., 0., 0., 1., 0., 0., 0., 0.],\n",
       "       [0., 0., 0., 0., 0., 0., 1., 0., 0., 0.],\n",
       "       [0., 0., 0., 0., 0., 0., 0., 1., 0., 0.],\n",
       "       [0., 0., 0., 0., 0., 0., 0., 0., 1., 0.],\n",
       "       [0., 0., 0., 0., 0., 0., 0., 0., 0., 1.]])"
      ]
     },
     "execution_count": 91,
     "metadata": {},
     "output_type": "execute_result"
    }
   ],
   "source": [
    "n5 = np.eye(10)\n",
    "n5 # identity matrix"
   ]
  },
  {
   "cell_type": "code",
   "execution_count": 92,
   "id": "9f78d67e",
   "metadata": {},
   "outputs": [
    {
     "data": {
      "text/plain": [
       "array([0.86720411, 0.08140162, 0.41297385, 0.62976623, 0.80622551,\n",
       "       0.19624883, 0.28815249, 0.9557879 , 0.67752593, 0.25225697,\n",
       "       0.56501792, 0.55869003, 0.96170634, 0.81527648, 0.2199966 ,\n",
       "       0.61693782, 0.08020456, 0.48437552, 0.14978848, 0.87067247])"
      ]
     },
     "execution_count": 92,
     "metadata": {},
     "output_type": "execute_result"
    }
   ],
   "source": [
    "n6 = np.random.random(20) #\n",
    "n6"
   ]
  },
  {
   "cell_type": "code",
   "execution_count": 93,
   "id": "d968ef86",
   "metadata": {},
   "outputs": [
    {
     "data": {
      "text/plain": [
       "array([ 1.98343753,  1.17142669,  2.35417084,  0.02217131,  0.42282375,\n",
       "        0.91510767, -0.61394705,  0.39256078,  1.32497981,  0.41174609])"
      ]
     },
     "execution_count": 93,
     "metadata": {},
     "output_type": "execute_result"
    }
   ],
   "source": [
    "n7 = np.random.randn(10) # rand-n n mean no  more distribution gussian std deviation mean in0 and 1\n",
    "n7"
   ]
  },
  {
   "cell_type": "code",
   "execution_count": 94,
   "id": "b5d86834",
   "metadata": {},
   "outputs": [],
   "source": [
    "n8 = np.linspace(0, 10, 25) # will create a array of equally spaced values"
   ]
  },
  {
   "cell_type": "code",
   "execution_count": 95,
   "id": "ec1f65da",
   "metadata": {},
   "outputs": [
    {
     "data": {
      "text/plain": [
       "array([ 0.        ,  0.41666667,  0.83333333,  1.25      ,  1.66666667,\n",
       "        2.08333333,  2.5       ,  2.91666667,  3.33333333,  3.75      ,\n",
       "        4.16666667,  4.58333333,  5.        ,  5.41666667,  5.83333333,\n",
       "        6.25      ,  6.66666667,  7.08333333,  7.5       ,  7.91666667,\n",
       "        8.33333333,  8.75      ,  9.16666667,  9.58333333, 10.        ])"
      ]
     },
     "execution_count": 95,
     "metadata": {},
     "output_type": "execute_result"
    }
   ],
   "source": [
    "n8"
   ]
  },
  {
   "cell_type": "code",
   "execution_count": 96,
   "id": "9d2cf2d8",
   "metadata": {},
   "outputs": [
    {
     "data": {
      "text/plain": [
       "array([0. , 0.5, 1. , 1.5, 2. , 2.5, 3. , 3.5, 4. , 4.5, 5. , 5.5, 6. ,\n",
       "       6.5, 7. , 7.5, 8. , 8.5, 9. , 9.5])"
      ]
     },
     "execution_count": 96,
     "metadata": {},
     "output_type": "execute_result"
    }
   ],
   "source": [
    "n9 = np.arange(0,10,0.5) # can specify space btw number\n",
    "n9"
   ]
  },
  {
   "cell_type": "markdown",
   "id": "04a8b2f3",
   "metadata": {},
   "source": [
    "# Operations on Arrays"
   ]
  },
  {
   "cell_type": "code",
   "execution_count": 97,
   "id": "631f5c51",
   "metadata": {},
   "outputs": [
    {
     "data": {
      "text/plain": [
       "array([ 1,  2,  3,  4,  5,  6,  7,  8,  9, 10])"
      ]
     },
     "execution_count": 97,
     "metadata": {},
     "output_type": "execute_result"
    }
   ],
   "source": [
    "n1"
   ]
  },
  {
   "cell_type": "code",
   "execution_count": 98,
   "id": "1ecf741e",
   "metadata": {},
   "outputs": [
    {
     "data": {
      "text/plain": [
       "array([0.5, 1. , 1.5, 2. , 2.5, 3. , 3.5, 4. , 4.5, 5. ])"
      ]
     },
     "execution_count": 98,
     "metadata": {},
     "output_type": "execute_result"
    }
   ],
   "source": [
    "n1/2 "
   ]
  },
  {
   "cell_type": "code",
   "execution_count": 99,
   "id": "e3f3841b",
   "metadata": {},
   "outputs": [
    {
     "data": {
      "text/plain": [
       "array([0, 1, 1, 2, 2, 3, 3, 4, 4, 5])"
      ]
     },
     "execution_count": 99,
     "metadata": {},
     "output_type": "execute_result"
    }
   ],
   "source": [
    "n1//2"
   ]
  },
  {
   "cell_type": "code",
   "execution_count": 100,
   "id": "5fd02c56",
   "metadata": {},
   "outputs": [
    {
     "data": {
      "text/plain": [
       "array([  1,   4,   9,  16,  25,  36,  49,  64,  81, 100])"
      ]
     },
     "execution_count": 100,
     "metadata": {},
     "output_type": "execute_result"
    }
   ],
   "source": [
    "n1**2"
   ]
  },
  {
   "cell_type": "code",
   "execution_count": 101,
   "id": "98531826",
   "metadata": {},
   "outputs": [
    {
     "data": {
      "text/plain": [
       "array([11, 12, 13, 14, 15, 16, 17, 18, 19, 20])"
      ]
     },
     "execution_count": 101,
     "metadata": {},
     "output_type": "execute_result"
    }
   ],
   "source": [
    "10 + n1"
   ]
  },
  {
   "cell_type": "code",
   "execution_count": 102,
   "id": "7437333e",
   "metadata": {},
   "outputs": [
    {
     "data": {
      "text/plain": [
       "array([ 10,  20,  30,  40,  50,  60,  70,  80,  90, 100])"
      ]
     },
     "execution_count": 102,
     "metadata": {},
     "output_type": "execute_result"
    }
   ],
   "source": [
    "10 * n1"
   ]
  },
  {
   "cell_type": "code",
   "execution_count": 103,
   "id": "d6887d7b",
   "metadata": {},
   "outputs": [
    {
     "data": {
      "text/plain": [
       "array([5.        , 2.5       , 1.66666667, 1.25      , 1.        ,\n",
       "       0.83333333, 0.71428571, 0.625     , 0.55555556, 0.5       ])"
      ]
     },
     "execution_count": 103,
     "metadata": {},
     "output_type": "execute_result"
    }
   ],
   "source": [
    "5 / n1"
   ]
  },
  {
   "cell_type": "code",
   "execution_count": 104,
   "id": "63a341b4",
   "metadata": {},
   "outputs": [
    {
     "data": {
      "text/plain": [
       "array([5, 2, 1, 1, 1, 0, 0, 0, 0, 0])"
      ]
     },
     "execution_count": 104,
     "metadata": {},
     "output_type": "execute_result"
    }
   ],
   "source": [
    "5// n1"
   ]
  },
  {
   "cell_type": "code",
   "execution_count": 107,
   "id": "9382cedf",
   "metadata": {},
   "outputs": [
    {
     "data": {
      "text/plain": [
       "array([False, False, False, False, False,  True,  True,  True,  True,\n",
       "        True])"
      ]
     },
     "execution_count": 107,
     "metadata": {},
     "output_type": "execute_result"
    }
   ],
   "source": [
    "n1 > 5"
   ]
  },
  {
   "cell_type": "code",
   "execution_count": 106,
   "id": "d618f534",
   "metadata": {},
   "outputs": [
    {
     "data": {
      "text/plain": [
       "array([ True,  True,  True,  True, False, False, False, False, False,\n",
       "       False])"
      ]
     },
     "execution_count": 106,
     "metadata": {},
     "output_type": "execute_result"
    }
   ],
   "source": [
    "n1 < 5"
   ]
  },
  {
   "cell_type": "code",
   "execution_count": 108,
   "id": "6b131e60",
   "metadata": {},
   "outputs": [
    {
     "data": {
      "text/plain": [
       "array([False, False, False, False,  True, False, False, False, False,\n",
       "       False])"
      ]
     },
     "execution_count": 108,
     "metadata": {},
     "output_type": "execute_result"
    }
   ],
   "source": [
    "n1 == 5"
   ]
  },
  {
   "cell_type": "code",
   "execution_count": 110,
   "id": "134152c9",
   "metadata": {},
   "outputs": [
    {
     "data": {
      "text/plain": [
       "array([ 6,  7,  8,  9, 10])"
      ]
     },
     "execution_count": 110,
     "metadata": {},
     "output_type": "execute_result"
    }
   ],
   "source": [
    "n1[n1>5]"
   ]
  },
  {
   "cell_type": "code",
   "execution_count": 111,
   "id": "12e9ada7",
   "metadata": {},
   "outputs": [
    {
     "data": {
      "text/plain": [
       "array([5])"
      ]
     },
     "execution_count": 111,
     "metadata": {},
     "output_type": "execute_result"
    }
   ],
   "source": [
    "n1[n1==5]"
   ]
  },
  {
   "cell_type": "code",
   "execution_count": 112,
   "id": "43309772",
   "metadata": {},
   "outputs": [
    {
     "data": {
      "text/plain": [
       "array([1, 2, 3, 4])"
      ]
     },
     "execution_count": 112,
     "metadata": {},
     "output_type": "execute_result"
    }
   ],
   "source": [
    "n1[n1<5]"
   ]
  },
  {
   "cell_type": "code",
   "execution_count": 120,
   "id": "902cd629",
   "metadata": {},
   "outputs": [
    {
     "data": {
      "text/plain": [
       "array([ 3,  4,  5,  6,  7,  8,  9, 10])"
      ]
     },
     "execution_count": 120,
     "metadata": {},
     "output_type": "execute_result"
    }
   ],
   "source": [
    "n1[n1[1:9]]"
   ]
  },
  {
   "cell_type": "code",
   "execution_count": 121,
   "id": "94f91896",
   "metadata": {},
   "outputs": [
    {
     "data": {
      "text/plain": [
       "array([ 1,  2,  3,  4,  5,  6,  7,  8,  9, 10])"
      ]
     },
     "execution_count": 121,
     "metadata": {},
     "output_type": "execute_result"
    }
   ],
   "source": [
    "n1"
   ]
  },
  {
   "cell_type": "code",
   "execution_count": 122,
   "id": "50e4a417",
   "metadata": {},
   "outputs": [
    {
     "data": {
      "text/plain": [
       "array([ 2,  4,  6,  8, 10, 12, 14, 16, 18, 20])"
      ]
     },
     "execution_count": 122,
     "metadata": {},
     "output_type": "execute_result"
    }
   ],
   "source": [
    "n1+n1"
   ]
  },
  {
   "cell_type": "code",
   "execution_count": 123,
   "id": "f3c964ad",
   "metadata": {},
   "outputs": [
    {
     "data": {
      "text/plain": [
       "array([1., 1., 1., 1., 1., 1., 1., 1., 1., 1.])"
      ]
     },
     "execution_count": 123,
     "metadata": {},
     "output_type": "execute_result"
    }
   ],
   "source": [
    "n1/n1"
   ]
  },
  {
   "cell_type": "code",
   "execution_count": 124,
   "id": "a51596f7",
   "metadata": {},
   "outputs": [
    {
     "data": {
      "text/plain": [
       "array([11.        , 10.5       , 10.33333333, 10.25      , 10.2       ,\n",
       "       10.16666667, 10.14285714, 10.125     , 10.11111111, 10.1       ])"
      ]
     },
     "execution_count": 124,
     "metadata": {},
     "output_type": "execute_result"
    }
   ],
   "source": [
    "1/n1+10"
   ]
  },
  {
   "cell_type": "code",
   "execution_count": 130,
   "id": "60a381e2",
   "metadata": {},
   "outputs": [
    {
     "data": {
      "text/plain": [
       "array([0.        , 0.00502513, 0.01005025, 0.01507538, 0.0201005 ,\n",
       "       0.02512563, 0.03015075, 0.03517588, 0.04020101, 0.04522613,\n",
       "       0.05025126, 0.05527638, 0.06030151, 0.06532663, 0.07035176,\n",
       "       0.07537688, 0.08040201, 0.08542714, 0.09045226, 0.09547739,\n",
       "       0.10050251, 0.10552764, 0.11055276, 0.11557789, 0.12060302,\n",
       "       0.12562814, 0.13065327, 0.13567839, 0.14070352, 0.14572864,\n",
       "       0.15075377, 0.15577889, 0.16080402, 0.16582915, 0.17085427,\n",
       "       0.1758794 , 0.18090452, 0.18592965, 0.19095477, 0.1959799 ,\n",
       "       0.20100503, 0.20603015, 0.21105528, 0.2160804 , 0.22110553,\n",
       "       0.22613065, 0.23115578, 0.2361809 , 0.24120603, 0.24623116,\n",
       "       0.25125628, 0.25628141, 0.26130653, 0.26633166, 0.27135678,\n",
       "       0.27638191, 0.28140704, 0.28643216, 0.29145729, 0.29648241,\n",
       "       0.30150754, 0.30653266, 0.31155779, 0.31658291, 0.32160804,\n",
       "       0.32663317, 0.33165829, 0.33668342, 0.34170854, 0.34673367,\n",
       "       0.35175879, 0.35678392, 0.36180905, 0.36683417, 0.3718593 ,\n",
       "       0.37688442, 0.38190955, 0.38693467, 0.3919598 , 0.39698492,\n",
       "       0.40201005, 0.40703518, 0.4120603 , 0.41708543, 0.42211055,\n",
       "       0.42713568, 0.4321608 , 0.43718593, 0.44221106, 0.44723618,\n",
       "       0.45226131, 0.45728643, 0.46231156, 0.46733668, 0.47236181,\n",
       "       0.47738693, 0.48241206, 0.48743719, 0.49246231, 0.49748744,\n",
       "       0.50251256, 0.50753769, 0.51256281, 0.51758794, 0.52261307,\n",
       "       0.52763819, 0.53266332, 0.53768844, 0.54271357, 0.54773869,\n",
       "       0.55276382, 0.55778894, 0.56281407, 0.5678392 , 0.57286432,\n",
       "       0.57788945, 0.58291457, 0.5879397 , 0.59296482, 0.59798995,\n",
       "       0.60301508, 0.6080402 , 0.61306533, 0.61809045, 0.62311558,\n",
       "       0.6281407 , 0.63316583, 0.63819095, 0.64321608, 0.64824121,\n",
       "       0.65326633, 0.65829146, 0.66331658, 0.66834171, 0.67336683,\n",
       "       0.67839196, 0.68341709, 0.68844221, 0.69346734, 0.69849246,\n",
       "       0.70351759, 0.70854271, 0.71356784, 0.71859296, 0.72361809,\n",
       "       0.72864322, 0.73366834, 0.73869347, 0.74371859, 0.74874372,\n",
       "       0.75376884, 0.75879397, 0.7638191 , 0.76884422, 0.77386935,\n",
       "       0.77889447, 0.7839196 , 0.78894472, 0.79396985, 0.79899497,\n",
       "       0.8040201 , 0.80904523, 0.81407035, 0.81909548, 0.8241206 ,\n",
       "       0.82914573, 0.83417085, 0.83919598, 0.84422111, 0.84924623,\n",
       "       0.85427136, 0.85929648, 0.86432161, 0.86934673, 0.87437186,\n",
       "       0.87939698, 0.88442211, 0.88944724, 0.89447236, 0.89949749,\n",
       "       0.90452261, 0.90954774, 0.91457286, 0.91959799, 0.92462312,\n",
       "       0.92964824, 0.93467337, 0.93969849, 0.94472362, 0.94974874,\n",
       "       0.95477387, 0.95979899, 0.96482412, 0.96984925, 0.97487437,\n",
       "       0.9798995 , 0.98492462, 0.98994975, 0.99497487, 1.        ])"
      ]
     },
     "execution_count": 130,
     "metadata": {},
     "output_type": "execute_result"
    }
   ],
   "source": [
    "x = np.linspace(0,1,200)\n",
    "x"
   ]
  },
  {
   "cell_type": "code",
   "execution_count": 148,
   "id": "08dd6671",
   "metadata": {},
   "outputs": [
    {
     "data": {
      "text/plain": [
       "(array([1., 0., 1., 3., 0., 1., 2., 0., 1., 1.]),\n",
       " array([-0.61394705, -0.31713527, -0.02032348,  0.27648831,  0.5733001 ,\n",
       "         0.87011189,  1.16692368,  1.46373547,  1.76054726,  2.05735905,\n",
       "         2.35417084]),\n",
       " <BarContainer object of 10 artists>)"
      ]
     },
     "execution_count": 148,
     "metadata": {},
     "output_type": "execute_result"
    },
    {
     "data": {
      "image/png": "[encoded data removed]",
      "text/plain": [
       "<Figure size 432x288 with 1 Axes>"
      ]
     },
     "metadata": {
      "needs_background": "light"
     },
     "output_type": "display_data"
    }
   ],
   "source": [
    "#plt.plot(x,x**2)\n",
    "plt.hist(n6)\n",
    "plt.hist(n7)\n",
    "\n"
   ]
  },
  {
   "cell_type": "code",
   "execution_count": 149,
   "id": "d5087ef3",
   "metadata": {},
   "outputs": [
    {
     "data": {
      "text/plain": [
       "array([ 1,  2,  3,  4,  5,  6,  7,  8,  9, 10])"
      ]
     },
     "execution_count": 149,
     "metadata": {},
     "output_type": "execute_result"
    }
   ],
   "source": [
    "n1"
   ]
  },
  {
   "cell_type": "code",
   "execution_count": 177,
   "id": "3ae2b6b3",
   "metadata": {},
   "outputs": [],
   "source": [
    "def f(x):\n",
    "    return x**2 * np.sin(x) / np.exp(-x)\n",
    "\n",
    "x1 = np.linspace(1,10,200)\n",
    "y1 = f(x1)\n",
    "\n",
    "\n"
   ]
  },
  {
   "cell_type": "code",
   "execution_count": 179,
   "id": "13a44ca4",
   "metadata": {},
   "outputs": [],
   "source": [
    "def f(x):\n",
    "    return x**2 * np.cos(x) / np.exp(-x)\n",
    "x2 = np.linspace(1,10,200)\n",
    "y2 = f(x2)\n"
   ]
  },
  {
   "cell_type": "code",
   "execution_count": null,
   "id": "89931d17",
   "metadata": {},
   "outputs": [],
   "source": []
  },
  {
   "cell_type": "code",
   "execution_count": 194,
   "id": "6201585b",
   "metadata": {},
   "outputs": [
    {
     "data": {
      "text/plain": [
       "[<matplotlib.lines.Line2D at 0x7f853458e280>]"
      ]
     },
     "execution_count": 194,
     "metadata": {},
     "output_type": "execute_result"
    },
    {
     "data": {
      "image/png": "[encoded data removed]",
      "text/plain": [
       "<Figure size 432x288 with 1 Axes>"
      ]
     },
     "metadata": {
      "needs_background": "light"
     },
     "output_type": "display_data"
    }
   ],
   "source": [
    "plt.plot(x1,y1)\n",
    "#plt.plot(x1,y2)\n",
    "#plt.plot(x2,y1)\n",
    "#plt.plot(x2,y2)\n"
   ]
  },
  {
   "cell_type": "code",
   "execution_count": 162,
   "id": "ef81b51d",
   "metadata": {},
   "outputs": [
    {
     "data": {
      "text/plain": [
       "array([ 1.        ,  1.04522613,  1.09045226,  1.13567839,  1.18090452,\n",
       "        1.22613065,  1.27135678,  1.31658291,  1.36180905,  1.40703518,\n",
       "        1.45226131,  1.49748744,  1.54271357,  1.5879397 ,  1.63316583,\n",
       "        1.67839196,  1.72361809,  1.76884422,  1.81407035,  1.85929648,\n",
       "        1.90452261,  1.94974874,  1.99497487,  2.04020101,  2.08542714,\n",
       "        2.13065327,  2.1758794 ,  2.22110553,  2.26633166,  2.31155779,\n",
       "        2.35678392,  2.40201005,  2.44723618,  2.49246231,  2.53768844,\n",
       "        2.58291457,  2.6281407 ,  2.67336683,  2.71859296,  2.7638191 ,\n",
       "        2.80904523,  2.85427136,  2.89949749,  2.94472362,  2.98994975,\n",
       "        3.03517588,  3.08040201,  3.12562814,  3.17085427,  3.2160804 ,\n",
       "        3.26130653,  3.30653266,  3.35175879,  3.39698492,  3.44221106,\n",
       "        3.48743719,  3.53266332,  3.57788945,  3.62311558,  3.66834171,\n",
       "        3.71356784,  3.75879397,  3.8040201 ,  3.84924623,  3.89447236,\n",
       "        3.93969849,  3.98492462,  4.03015075,  4.07537688,  4.12060302,\n",
       "        4.16582915,  4.21105528,  4.25628141,  4.30150754,  4.34673367,\n",
       "        4.3919598 ,  4.43718593,  4.48241206,  4.52763819,  4.57286432,\n",
       "        4.61809045,  4.66331658,  4.70854271,  4.75376884,  4.79899497,\n",
       "        4.84422111,  4.88944724,  4.93467337,  4.9798995 ,  5.02512563,\n",
       "        5.07035176,  5.11557789,  5.16080402,  5.20603015,  5.25125628,\n",
       "        5.29648241,  5.34170854,  5.38693467,  5.4321608 ,  5.47738693,\n",
       "        5.52261307,  5.5678392 ,  5.61306533,  5.65829146,  5.70351759,\n",
       "        5.74874372,  5.79396985,  5.83919598,  5.88442211,  5.92964824,\n",
       "        5.97487437,  6.0201005 ,  6.06532663,  6.11055276,  6.15577889,\n",
       "        6.20100503,  6.24623116,  6.29145729,  6.33668342,  6.38190955,\n",
       "        6.42713568,  6.47236181,  6.51758794,  6.56281407,  6.6080402 ,\n",
       "        6.65326633,  6.69849246,  6.74371859,  6.78894472,  6.83417085,\n",
       "        6.87939698,  6.92462312,  6.96984925,  7.01507538,  7.06030151,\n",
       "        7.10552764,  7.15075377,  7.1959799 ,  7.24120603,  7.28643216,\n",
       "        7.33165829,  7.37688442,  7.42211055,  7.46733668,  7.51256281,\n",
       "        7.55778894,  7.60301508,  7.64824121,  7.69346734,  7.73869347,\n",
       "        7.7839196 ,  7.82914573,  7.87437186,  7.91959799,  7.96482412,\n",
       "        8.01005025,  8.05527638,  8.10050251,  8.14572864,  8.19095477,\n",
       "        8.2361809 ,  8.28140704,  8.32663317,  8.3718593 ,  8.41708543,\n",
       "        8.46231156,  8.50753769,  8.55276382,  8.59798995,  8.64321608,\n",
       "        8.68844221,  8.73366834,  8.77889447,  8.8241206 ,  8.86934673,\n",
       "        8.91457286,  8.95979899,  9.00502513,  9.05025126,  9.09547739,\n",
       "        9.14070352,  9.18592965,  9.23115578,  9.27638191,  9.32160804,\n",
       "        9.36683417,  9.4120603 ,  9.45728643,  9.50251256,  9.54773869,\n",
       "        9.59296482,  9.63819095,  9.68341709,  9.72864322,  9.77386935,\n",
       "        9.81909548,  9.86432161,  9.90954774,  9.95477387, 10.        ])"
      ]
     },
     "execution_count": 162,
     "metadata": {},
     "output_type": "execute_result"
    }
   ],
   "source": [
    "x"
   ]
  },
  {
   "cell_type": "markdown",
   "id": "1780ee76",
   "metadata": {},
   "source": [
    "https://numpy.org/doc/stable/reference/routines.math.html"
   ]
  },
  {
   "cell_type": "markdown",
   "id": "3dac3025",
   "metadata": {},
   "source": [
    "# NumPy Array Indexing/Slicing"
   ]
  },
  {
   "cell_type": "code",
   "execution_count": 163,
   "id": "095954df",
   "metadata": {},
   "outputs": [
    {
     "data": {
      "text/plain": [
       "array([ 1,  2,  3,  4,  5,  6,  7,  8,  9, 10])"
      ]
     },
     "execution_count": 163,
     "metadata": {},
     "output_type": "execute_result"
    }
   ],
   "source": [
    "n1"
   ]
  },
  {
   "cell_type": "code",
   "execution_count": 164,
   "id": "a000705f",
   "metadata": {},
   "outputs": [
    {
     "data": {
      "text/plain": [
       "1"
      ]
     },
     "execution_count": 164,
     "metadata": {},
     "output_type": "execute_result"
    }
   ],
   "source": [
    "n1[0]"
   ]
  },
  {
   "cell_type": "code",
   "execution_count": 165,
   "id": "caea5b60",
   "metadata": {},
   "outputs": [
    {
     "data": {
      "text/plain": [
       "6"
      ]
     },
     "execution_count": 165,
     "metadata": {},
     "output_type": "execute_result"
    }
   ],
   "source": [
    "n1[5]"
   ]
  },
  {
   "cell_type": "code",
   "execution_count": 166,
   "id": "cd3eb102",
   "metadata": {},
   "outputs": [
    {
     "data": {
      "text/plain": [
       "array([ 1,  2,  3,  4,  5,  6,  7,  8,  9, 10])"
      ]
     },
     "execution_count": 166,
     "metadata": {},
     "output_type": "execute_result"
    }
   ],
   "source": [
    "n1[:10]"
   ]
  },
  {
   "cell_type": "code",
   "execution_count": 167,
   "id": "34fd4db1",
   "metadata": {},
   "outputs": [
    {
     "data": {
      "text/plain": [
       "array([ 1,  2,  3,  4,  5,  6,  7,  8,  9, 10])"
      ]
     },
     "execution_count": 167,
     "metadata": {},
     "output_type": "execute_result"
    }
   ],
   "source": [
    "n1[0:]"
   ]
  },
  {
   "cell_type": "code",
   "execution_count": 168,
   "id": "6d786be9",
   "metadata": {},
   "outputs": [
    {
     "data": {
      "text/plain": [
       "array([5, 6, 7, 8])"
      ]
     },
     "execution_count": 168,
     "metadata": {},
     "output_type": "execute_result"
    }
   ],
   "source": [
    "n1[4:8]"
   ]
  },
  {
   "cell_type": "code",
   "execution_count": 203,
   "id": "71bcb3fc",
   "metadata": {},
   "outputs": [
    {
     "data": {
      "text/plain": [
       "array([ 7,  8,  9, 10])"
      ]
     },
     "execution_count": 203,
     "metadata": {},
     "output_type": "execute_result"
    }
   ],
   "source": [
    "n1[-4:]"
   ]
  },
  {
   "cell_type": "code",
   "execution_count": 204,
   "id": "6547e921",
   "metadata": {},
   "outputs": [],
   "source": [
    "names = np.array([\"cat\",\"crow\",\"dog\",\"donkey\"])"
   ]
  },
  {
   "cell_type": "code",
   "execution_count": 205,
   "id": "402c69cd",
   "metadata": {},
   "outputs": [
    {
     "data": {
      "text/plain": [
       "array(['cat', 'crow', 'dog', 'donkey'], dtype='<U6')"
      ]
     },
     "execution_count": 205,
     "metadata": {},
     "output_type": "execute_result"
    }
   ],
   "source": [
    "names"
   ]
  },
  {
   "cell_type": "code",
   "execution_count": null,
   "id": "9b7dac66",
   "metadata": {},
   "outputs": [],
   "source": []
  },
  {
   "cell_type": "code",
   "execution_count": 217,
   "id": "0498bee5",
   "metadata": {},
   "outputs": [
    {
     "data": {
      "text/plain": [
       "array([False, False,  True,  True])"
      ]
     },
     "execution_count": 217,
     "metadata": {},
     "output_type": "execute_result"
    }
   ],
   "source": [
    "first_letter = np.vectorize(lambda x: x[0])(names) == \"d\"\n",
    "first_letter"
   ]
  },
  {
   "cell_type": "code",
   "execution_count": 218,
   "id": "a7a8976c",
   "metadata": {},
   "outputs": [
    {
     "data": {
      "text/plain": [
       "array(['dog', 'donkey'], dtype='<U6')"
      ]
     },
     "execution_count": 218,
     "metadata": {},
     "output_type": "execute_result"
    }
   ],
   "source": [
    "names[first_letter]"
   ]
  },
  {
   "cell_type": "code",
   "execution_count": 215,
   "id": "d7e8dc60",
   "metadata": {},
   "outputs": [],
   "source": [
    "f = lambda s : s[1:3]"
   ]
  },
  {
   "cell_type": "code",
   "execution_count": 216,
   "id": "0039962c",
   "metadata": {},
   "outputs": [
    {
     "data": {
      "text/plain": [
       "'aw'"
      ]
     },
     "execution_count": 216,
     "metadata": {},
     "output_type": "execute_result"
    }
   ],
   "source": [
    "f(\"Dawood\")"
   ]
  },
  {
   "cell_type": "code",
   "execution_count": 219,
   "id": "bf9f365c",
   "metadata": {},
   "outputs": [
    {
     "data": {
      "text/plain": [
       "array([ 1,  2,  3,  4,  5,  6,  7,  8,  9, 10])"
      ]
     },
     "execution_count": 219,
     "metadata": {},
     "output_type": "execute_result"
    }
   ],
   "source": [
    "n1"
   ]
  },
  {
   "cell_type": "code",
   "execution_count": 221,
   "id": "4e6a5708",
   "metadata": {},
   "outputs": [
    {
     "data": {
      "text/plain": [
       "array([False,  True, False,  True, False,  True, False,  True, False,\n",
       "        True])"
      ]
     },
     "execution_count": 221,
     "metadata": {},
     "output_type": "execute_result"
    }
   ],
   "source": [
    "n1%2==0"
   ]
  },
  {
   "cell_type": "code",
   "execution_count": 222,
   "id": "c0959bfc",
   "metadata": {},
   "outputs": [
    {
     "data": {
      "text/plain": [
       "array([ 2,  4,  6,  8, 10])"
      ]
     },
     "execution_count": 222,
     "metadata": {},
     "output_type": "execute_result"
    }
   ],
   "source": [
    "n1[n1%2==0]"
   ]
  },
  {
   "cell_type": "markdown",
   "id": "c1d56772",
   "metadata": {},
   "source": [
    "# Calculus / Statistical Functions"
   ]
  },
  {
   "cell_type": "code",
   "execution_count": 72,
   "id": "7c6927d9",
   "metadata": {},
   "outputs": [],
   "source": [
    "n11 = 2 * np.random.randn(10)+10"
   ]
  },
  {
   "cell_type": "code",
   "execution_count": 73,
   "id": "0e213ddd",
   "metadata": {},
   "outputs": [
    {
     "data": {
      "text/plain": [
       "array([10.30342468,  8.06167473, 12.50115009,  8.99587963, 10.38164463,\n",
       "        8.59319495, 12.43459027,  8.74123181, 12.4323002 ,  9.35554027])"
      ]
     },
     "execution_count": 73,
     "metadata": {},
     "output_type": "execute_result"
    }
   ],
   "source": [
    "n11"
   ]
  },
  {
   "cell_type": "code",
   "execution_count": 74,
   "id": "58509f6f",
   "metadata": {},
   "outputs": [
    {
     "data": {
      "text/plain": [
       "1.6357520123308962"
      ]
     },
     "execution_count": 74,
     "metadata": {},
     "output_type": "execute_result"
    }
   ],
   "source": [
    "np.std(n11)"
   ]
  },
  {
   "cell_type": "code",
   "execution_count": 75,
   "id": "a5ead039",
   "metadata": {},
   "outputs": [
    {
     "data": {
      "text/plain": [
       "10.180063125533803"
      ]
     },
     "execution_count": 75,
     "metadata": {},
     "output_type": "execute_result"
    }
   ],
   "source": [
    "np.mean(n11)"
   ]
  },
  {
   "cell_type": "code",
   "execution_count": 76,
   "id": "c69db9a6",
   "metadata": {},
   "outputs": [
    {
     "data": {
      "text/plain": [
       "12.432758216565274"
      ]
     },
     "execution_count": 76,
     "metadata": {},
     "output_type": "execute_result"
    }
   ],
   "source": [
    "np.percentile(n11,80) # will tell that 50 percrnt are less than this number"
   ]
  },
  {
   "cell_type": "code",
   "execution_count": null,
   "id": "888dc65d",
   "metadata": {},
   "outputs": [],
   "source": []
  },
  {
   "cell_type": "code",
   "execution_count": null,
   "id": "baf9c8b0",
   "metadata": {},
   "outputs": [],
   "source": []
  },
  {
   "cell_type": "code",
   "execution_count": null,
   "id": "6a49b4ff",
   "metadata": {},
   "outputs": [],
   "source": []
  },
  {
   "cell_type": "code",
   "execution_count": null,
   "id": "4d19d948",
   "metadata": {},
   "outputs": [],
   "source": []
  },
  {
   "cell_type": "code",
   "execution_count": null,
   "id": "928fa4c1",
   "metadata": {},
   "outputs": [],
   "source": []
  },
  {
   "cell_type": "code",
   "execution_count": 142,
   "id": "4d4bb969",
   "metadata": {},
   "outputs": [],
   "source": [
    "x = np.linspace(1,10,100)"
   ]
  },
  {
   "cell_type": "code",
   "execution_count": 143,
   "id": "36143214",
   "metadata": {},
   "outputs": [],
   "source": [
    "y = 1/x**2 * np.sin(x)"
   ]
  },
  {
   "cell_type": "code",
   "execution_count": 144,
   "id": "fcaab278",
   "metadata": {},
   "outputs": [
    {
     "data": {
      "text/plain": [
       "[<matplotlib.lines.Line2D at 0x7f7cf31b5df0>]"
      ]
     },
     "execution_count": 144,
     "metadata": {},
     "output_type": "execute_result"
    },
    {
     "data": {
      "image/png": "[encoded data removed]",
      "text/plain": [
       "<Figure size 432x288 with 1 Axes>"
      ]
     },
     "metadata": {
      "needs_background": "light"
     },
     "output_type": "display_data"
    }
   ],
   "source": [
    "plt.plot(x,y,color = \"red\")"
   ]
  },
  {
   "cell_type": "code",
   "execution_count": 145,
   "id": "d2c3ac76",
   "metadata": {},
   "outputs": [],
   "source": [
    "dydx = np.gradient(y,x)"
   ]
  },
  {
   "cell_type": "code",
   "execution_count": 146,
   "id": "99eb5b20",
   "metadata": {},
   "outputs": [
    {
     "data": {
      "text/plain": [
       "[<matplotlib.lines.Line2D at 0x7f7cf319f280>]"
      ]
     },
     "execution_count": 146,
     "metadata": {},
     "output_type": "execute_result"
    },
    {
     "data": {
      "image/png": "[encoded data removed]",
      "text/plain": [
       "<Figure size 432x288 with 1 Axes>"
      ]
     },
     "metadata": {
      "needs_background": "light"
     },
     "output_type": "display_data"
    }
   ],
   "source": [
    "plt.plot(x,dydx,color = \"blue\")"
   ]
  },
  {
   "cell_type": "code",
   "execution_count": 147,
   "id": "8649f614",
   "metadata": {},
   "outputs": [
    {
     "data": {
      "text/plain": [
       "[<matplotlib.lines.Line2D at 0x7f7cf31020d0>]"
      ]
     },
     "execution_count": 147,
     "metadata": {},
     "output_type": "execute_result"
    },
    {
     "data": {
      "image/png": "[encoded data removed]",
      "text/plain": [
       "<Figure size 432x288 with 1 Axes>"
      ]
     },
     "metadata": {
      "needs_background": "light"
     },
     "output_type": "display_data"
    }
   ],
   "source": [
    "plt.plot(x,dydx,color = \"green\")\n",
    "plt.plot(x,y,color = \"red\")"
   ]
  },
  {
   "cell_type": "code",
   "execution_count": 148,
   "id": "0f6a39db",
   "metadata": {},
   "outputs": [
    {
     "data": {
      "text/plain": [
       "array([ 1,  3,  6, 10])"
      ]
     },
     "execution_count": 148,
     "metadata": {},
     "output_type": "execute_result"
    }
   ],
   "source": [
    "np.cumsum(np.array([1,2,3,4]))"
   ]
  },
  {
   "cell_type": "code",
   "execution_count": 153,
   "id": "46ed8037",
   "metadata": {},
   "outputs": [],
   "source": [
    "x = np.linspace(1,20,100)\n",
    "y = 1/x**2 * np.sin(x)\n",
    "dydx = np.gradient(y,x)\n",
    "y_int = np.cumsum(y) * (x[1] - x[0])"
   ]
  },
  {
   "cell_type": "code",
   "execution_count": 155,
   "id": "b50f7bd3",
   "metadata": {},
   "outputs": [
    {
     "data": {
      "text/plain": [
       "[<matplotlib.lines.Line2D at 0x7f7cf2f22370>]"
      ]
     },
     "execution_count": 155,
     "metadata": {},
     "output_type": "execute_result"
    },
    {
     "data": {
      "image/png": "[encoded data removed]",
      "text/plain": [
       "<Figure size 432x288 with 1 Axes>"
      ]
     },
     "metadata": {
      "needs_background": "light"
     },
     "output_type": "display_data"
    }
   ],
   "source": [
    "plt.plot(x,y)\n",
    "plt.plot(x,dydx)\n",
    "plt.plot(x,y_int)"
   ]
  },
  {
   "cell_type": "code",
   "execution_count": 157,
   "id": "5db53d08",
   "metadata": {},
   "outputs": [
    {
     "data": {
      "text/plain": [
       "[<matplotlib.lines.Line2D at 0x7f7cf2e3c100>]"
      ]
     },
     "execution_count": 157,
     "metadata": {},
     "output_type": "execute_result"
    },
    {
     "data": {
      "image/png": "[encoded data removed]",
      "text/plain": [
       "<Figure size 432x288 with 1 Axes>"
      ]
     },
     "metadata": {
      "needs_background": "light"
     },
     "output_type": "display_data"
    }
   ],
   "source": [
    "N = 1000\n",
    "x = np.linspace(0,10,N+1)\n",
    "y = np.exp(-x/10) * np.sin(x)\n",
    "plt.plot(x,y)"
   ]
  },
  {
   "cell_type": "code",
   "execution_count": 164,
   "id": "045d3ea3",
   "metadata": {},
   "outputs": [
    {
     "data": {
      "text/plain": [
       "-0.29498712036196784"
      ]
     },
     "execution_count": 164,
     "metadata": {},
     "output_type": "execute_result"
    }
   ],
   "source": [
    "y[(x>=4)&(x<=7)]\n",
    "np.mean(y[(x>=4)&(x<=7)])\n"
   ]
  },
  {
   "cell_type": "code",
   "execution_count": 165,
   "id": "98754de1",
   "metadata": {},
   "outputs": [
    {
     "data": {
      "text/plain": [
       "0.3150430939949153"
      ]
     },
     "execution_count": 165,
     "metadata": {},
     "output_type": "execute_result"
    }
   ],
   "source": [
    "np.std(y[(x>=4)&(x<=7)])\n"
   ]
  },
  {
   "cell_type": "code",
   "execution_count": 166,
   "id": "a5dd5ea3",
   "metadata": {},
   "outputs": [
    {
     "data": {
      "text/plain": [
       "0.06145551274590662"
      ]
     },
     "execution_count": 166,
     "metadata": {},
     "output_type": "execute_result"
    }
   ],
   "source": [
    "np.percentile((y[(x>=4)&(x<=7)]),80)"
   ]
  },
  {
   "cell_type": "code",
   "execution_count": 170,
   "id": "b0d34179",
   "metadata": {},
   "outputs": [
    {
     "data": {
      "text/plain": [
       "[<matplotlib.lines.Line2D at 0x7f7cf2d5fd60>]"
      ]
     },
     "execution_count": 170,
     "metadata": {},
     "output_type": "execute_result"
    },
    {
     "data": {
      "image/png": "[encoded data removed]",
      "text/plain": [
       "<Figure size 432x288 with 1 Axes>"
      ]
     },
     "metadata": {
      "needs_background": "light"
     },
     "output_type": "display_data"
    }
   ],
   "source": [
    "plt.plot(x,np.gradient(y,x)) # derivative of y wrt x"
   ]
  },
  {
   "cell_type": "code",
   "execution_count": 171,
   "id": "ad9c1ed6",
   "metadata": {},
   "outputs": [
    {
     "data": {
      "text/plain": [
       "array([ 0.99898385,  0.99793547,  0.9957905 , ..., -0.29380869,\n",
       "       -0.29124635, -0.28995908])"
      ]
     },
     "execution_count": 171,
     "metadata": {},
     "output_type": "execute_result"
    }
   ],
   "source": [
    "np.gradient(y,x)"
   ]
  },
  {
   "cell_type": "code",
   "execution_count": 173,
   "id": "d090cffc",
   "metadata": {},
   "outputs": [],
   "source": [
    "dydx = np.gradient(y,x)"
   ]
  },
  {
   "cell_type": "code",
   "execution_count": 178,
   "id": "08d756ea",
   "metadata": {},
   "outputs": [],
   "source": [
    " a = dydx[1:] # +ve to -ve swap"
   ]
  },
  {
   "cell_type": "code",
   "execution_count": 179,
   "id": "47f7eb87",
   "metadata": {},
   "outputs": [],
   "source": [
    "b = dydx[:-1]"
   ]
  },
  {
   "cell_type": "code",
   "execution_count": 185,
   "id": "709c03a1",
   "metadata": {},
   "outputs": [
    {
     "data": {
      "text/plain": [
       "array([1.48, 4.62, 7.76])"
      ]
     },
     "execution_count": 185,
     "metadata": {},
     "output_type": "execute_result"
    }
   ],
   "source": [
    "x[1:][a * b < 0]"
   ]
  },
  {
   "cell_type": "code",
   "execution_count": 212,
   "id": "32864896",
   "metadata": {},
   "outputs": [
    {
     "data": {
      "text/plain": [
       "array([ 1,  2,  3,  5,  6,  9, 10, 11, 13, 15, 17, 18, 19, 22, 23, 25, 26,\n",
       "       27, 29, 30, 31, 33, 34, 37, 38, 39, 41, 43, 45, 46])"
      ]
     },
     "execution_count": 212,
     "metadata": {},
     "output_type": "execute_result"
    }
   ],
   "source": [
    "nums = np.arange(0,100,1)\n",
    "nums[(nums%4 !=0) * (nums%7 !=0)][:30]"
   ]
  },
  {
   "cell_type": "code",
   "execution_count": 214,
   "id": "2eaf6f23",
   "metadata": {},
   "outputs": [
    {
     "data": {
      "text/plain": [
       "3183"
      ]
     },
     "execution_count": 214,
     "metadata": {},
     "output_type": "execute_result"
    }
   ],
   "source": [
    "nums = np.arange(0,100,1)\n",
    "sum(nums[(nums%4 !=0) * (nums%7 !=0)])"
   ]
  },
  {
   "cell_type": "code",
   "execution_count": null,
   "id": "56991011",
   "metadata": {},
   "outputs": [],
   "source": []
  }
 ],
 "metadata": {
  "kernelspec": {
   "display_name": "Python 3 (ipykernel)",
   "language": "python",
   "name": "python3"
  },
  "language_info": {
   "codemirror_mode": {
    "name": "ipython",
    "version": 3
   },
   "file_extension": ".py",
   "mimetype": "text/x-python",
   "name": "python",
   "nbconvert_exporter": "python",
   "pygments_lexer": "ipython3",
   "version": "3.9.12"
  }
 },
 "nbformat": 4,
 "nbformat_minor": 5
}
